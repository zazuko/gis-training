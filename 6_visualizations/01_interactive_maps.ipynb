{
 "cells": [
  {
   "cell_type": "markdown",
   "metadata": {},
   "source": [
    "# Interactive maps with Bokeh\n",
    "\n",
    "**Credit**\n",
    "[Vuokko Heikinheimo, Henrikki Tenkanen](https://automating-gis-processes.github.io/2017/lessons/L5/interactive-map-bokeh.html)  \n",
    "Department of Geosciences & Geography, University of Helsinki  \n",
    "\n",
    "Our ultimate goal today is to learn how to produce nice looking interactive maps using Geopandas and Bokeh."
   ]
  },
  {
   "cell_type": "code",
   "execution_count": null,
   "metadata": {},
   "outputs": [],
   "source": [
    "import os\n",
    "\n",
    "import bokeh.io\n",
    "import geopandas as gpd\n",
    "import mapclassify\n",
    "\n",
    "from bokeh.plotting import figure, save, show\n",
    "from bokeh.models import ColumnDataSource, HoverTool, LinearColorMapper\n",
    "\n",
    "bokeh.io.output_notebook()"
   ]
  },
  {
   "cell_type": "markdown",
   "metadata": {},
   "source": [
    "## Simple interactive point plot\n",
    "\n",
    "First, we learn the basic logic of plotting in Bokeh by making a simple interactive plot with few points.\n",
    "\n",
    "First we need to initialize our plot by calling the `figure` object."
   ]
  },
  {
   "cell_type": "markdown",
   "metadata": {},
   "source": [
    "In Bokeh drawing points, lines or polygons are always done using list(s) of x and y coordinates. \n",
    "\n",
    "Let's create those"
   ]
  },
  {
   "cell_type": "code",
   "execution_count": null,
   "metadata": {},
   "outputs": [],
   "source": [
    "# Create a list of x-coordinates\n",
    "x_coords = [0,1,2,3,4]\n",
    "\n",
    "# Create a list of y-coordinates\n",
    "y_coords = [5,4,1,2,0]"
   ]
  },
  {
   "cell_type": "markdown",
   "metadata": {},
   "source": [
    "Now we can plot those as points using a `.circle()` -object. Let’s give it a red color and size of 10."
   ]
  },
  {
   "cell_type": "code",
   "execution_count": null,
   "metadata": {},
   "outputs": [],
   "source": [
    "# Initialize the plot (p) and give it a title\n",
    "p = None\n",
    "\n",
    "# Plot it\n",
    "\n",
    "\n",
    "# Show it\n"
   ]
  },
  {
   "cell_type": "markdown",
   "metadata": {},
   "source": [
    "Finally, we can save our interactive plot into the disk with `save` -function that we imported in the beginning. All interactive plots are typically saved as `html` files which you can open in a web-browser."
   ]
  },
  {
   "cell_type": "code",
   "execution_count": null,
   "metadata": {},
   "outputs": [],
   "source": [
    "# Give output filepath\n",
    "outfp = None\n",
    "\n",
    "# Save the plot by passing the plot -object and output path\n",
    "\n"
   ]
  },
  {
   "cell_type": "markdown",
   "metadata": {},
   "source": [
    "Let's go to the points.html file. That's how it should look like:\n",
    "\n",
    "![sample plot](img/bokeh_plot.png)"
   ]
  },
  {
   "cell_type": "markdown",
   "metadata": {},
   "source": [
    "## Creating interactive maps using Bokeh and Geopandas\n",
    "Now we now khow how to make a really simple interactive point plot using Bokeh. What about creating such a map from a Shapefile of points? Of course we can do that, and we can use Geopandas for achieving that goal which is nice!\n",
    "\n",
    "Creating an interactive Bokeh map from Shapefile(s) contains typically following steps:\n",
    "\n",
    "1. **Read the Shapefile** into GeoDataFrame\n",
    "2. **Calculate the x and y coordinates** of the geometries into separate columns\n",
    "3. Convert the GeoDataFrame into a **Bokeh DataSource**\n",
    "4. **Plot** the x and y coordinates as points, lines or polygons (which are in Bokeh words: circle, multi_line and patches)\n",
    "\n",
    "Let’s practice these things and see how we can first create an interactive point map, then a map with lines, and finally a map with polygons where we also add those points and lines into our final map."
   ]
  },
  {
   "cell_type": "markdown",
   "metadata": {},
   "source": [
    "## Point map\n",
    "\n",
    "Let’s first make a map out of the addresses that we geocoded in Module 3. \n",
    "\n",
    "Read the data using geopandas which is the first step."
   ]
  },
  {
   "cell_type": "code",
   "execution_count": null,
   "metadata": {},
   "outputs": [],
   "source": [
    "fp = [\"..\", \"data\", \"Addresses\", \"addresses.shp\"]\n",
    "points = gpd.read_file(os.path.join(*fp))\n",
    "\n",
    "#Let's convert the CRS to EPSG:3067\n"
   ]
  },
  {
   "cell_type": "markdown",
   "metadata": {},
   "source": [
    "Let's see what we have"
   ]
  },
  {
   "cell_type": "code",
   "execution_count": null,
   "metadata": {},
   "outputs": [],
   "source": []
  },
  {
   "cell_type": "markdown",
   "metadata": {},
   "source": [
    "Okey, so we have the address and id columns plus the geometry column as attributes.\n",
    "\n",
    "Now, as a second step, we need to **calculate the x and y coordinates of those points**. Unfortunately there is not a ready made function in geopandas to do that.\n",
    "\n",
    "Thus, let’s create our own function called `getPointCoords()` which will return the x or y coordinate of a given geometry. It shall have two parameters: `geom` and `coord_type` where the first one should be a Shapely geometry object and coord_type should be either `'x'` or `'y'`."
   ]
  },
  {
   "cell_type": "code",
   "execution_count": null,
   "metadata": {},
   "outputs": [],
   "source": [
    "def getPointCoords(row, coord_type):\n",
    "    \"\"\"Calculates coordinates ('x' or 'y') of a Point geometry\"\"\"\n",
    "    \n",
    "    if coord_type == 'x':\n",
    "        return row[\"geometry\"].x\n",
    "    elif coord_type == 'y':\n",
    "        return row[\"geometry\"].y"
   ]
  },
  {
   "cell_type": "markdown",
   "metadata": {},
   "source": [
    "Let’s then use our function in a similar manner as we did before when classifying data using `.apply()` function."
   ]
  },
  {
   "cell_type": "code",
   "execution_count": null,
   "metadata": {},
   "outputs": [],
   "source": [
    "# Calculate x coordinates\n",
    "points['x'] = None\n",
    "\n",
    "# Calculate y coordinates\n",
    "points['y'] = None\n",
    "\n",
    "# Let's see what we have now\n"
   ]
  },
  {
   "cell_type": "markdown",
   "metadata": {},
   "source": [
    "Now we have the x and y columns in our GeoDataFrame.\n",
    "\n",
    "The third step, is to convert our DataFrame into a format that Bokeh can understand. Thus, we will convert our DataFrame into ColumnDataSource which is a Bokeh-specific way of storing the data.\n",
    "\n",
    "**Bokeh `ColumnDataSource` do not understand Shapely geometry -objects. Thus, we need to remove the `geometry` -column before convert our DataFrame into a ColumnDataSouce.**\n",
    "\n",
    "Let’s make a copy of our points GeoDataFrame where we drop the geometry column."
   ]
  },
  {
   "cell_type": "code",
   "execution_count": null,
   "metadata": {},
   "outputs": [],
   "source": [
    "# Make a copy and drop the geometry column\n",
    "p_df = None\n",
    "\n",
    "# See head\n"
   ]
  },
  {
   "cell_type": "markdown",
   "metadata": {},
   "source": [
    "Now we can convert that pandas DataFrame into a ColumnDataSource."
   ]
  },
  {
   "cell_type": "code",
   "execution_count": null,
   "metadata": {},
   "outputs": [],
   "source": [
    "# Point DataSource\n",
    "psource = None\n",
    "\n",
    "# What is it?\n",
    "psource"
   ]
  },
  {
   "cell_type": "markdown",
   "metadata": {},
   "source": [
    "Okey, so now we have a ColumnDataSource object that has our data stored in a way that Bokeh wants it.\n",
    "\n",
    "Finally, we can make a Point map of those points in a fairly similar manner as in the first example. Now instead of passing the coordinate lists, we can pass the data as a `source` for the plot with column names containing those coordinates."
   ]
  },
  {
   "cell_type": "code",
   "execution_count": null,
   "metadata": {},
   "outputs": [],
   "source": [
    "# Initialize our plot figure\n",
    "p = None\n",
    "\n",
    "# Add the points to the map from our 'psource' ColumnDataSource -object\n",
    "\n",
    "\n",
    "# Show it\n"
   ]
  },
  {
   "cell_type": "markdown",
   "metadata": {},
   "source": [
    "Now the last thing is to save our map as html file into our computer."
   ]
  },
  {
   "cell_type": "code",
   "execution_count": null,
   "metadata": {},
   "outputs": [],
   "source": [
    "# Output filepath\n",
    "outfp = None\n",
    "\n",
    "# Save the map\n",
    "\n"
   ]
  },
  {
   "cell_type": "markdown",
   "metadata": {},
   "source": [
    "## Adding interactivity to the map\n",
    "In Bokeh there are specific set of plot tools that you can add to the plot. Actually all the buttons that you see on the right side of the plot are exactly such tools. It is e.g. possible to interactively show information about the plot objects to the user when placing mouse over an object as you can see from the example on top of this page. The tool that shows information from the plot objects is an inspector called HoverTool that annotate or otherwise report information about the plot, based on the current cursor position.\n",
    "\n",
    "Let’s see now how this can be done.\n",
    "\n",
    "First, we need to initialize `HoverTool`"
   ]
  },
  {
   "cell_type": "code",
   "execution_count": null,
   "metadata": {},
   "outputs": [],
   "source": [
    "my_hover = None"
   ]
  },
  {
   "cell_type": "markdown",
   "metadata": {},
   "source": [
    "Then, we need to tell to the HoverTool that what information it should show to us. These are defined with tooltips like this:"
   ]
  },
  {
   "cell_type": "code",
   "execution_count": null,
   "metadata": {},
   "outputs": [],
   "source": []
  },
  {
   "cell_type": "markdown",
   "metadata": {},
   "source": [
    "From the above we can see that tooltip should be defined with a list of tuple(s) where the first item is the name or label for the information that will be shown, and the second item is the column-name where that information should be read in your data. The @ character in front of the column-name is important because it tells that the information should be taken from a column named as the text that comes after the character.\n",
    "\n",
    "Lastly we need to add this new tool into our current plot."
   ]
  },
  {
   "cell_type": "code",
   "execution_count": null,
   "metadata": {},
   "outputs": [],
   "source": []
  },
  {
   "cell_type": "markdown",
   "metadata": {},
   "source": [
    "Great! Let’s check again our map version"
   ]
  },
  {
   "cell_type": "code",
   "execution_count": null,
   "metadata": {},
   "outputs": [],
   "source": []
  },
  {
   "cell_type": "markdown",
   "metadata": {},
   "source": [
    "## Line map\n",
    "Now we have made a nice point map out of a Shapefile. Let’s see how we can make an interactive map out of a Shapefile that represents metro lines in Helsinki. We follow the same steps than before, i.e. \n",
    "\n",
    "1) read the data,   \n",
    "2) calculate x and y coordinates,   \n",
    "3) convert the DataFrame into a ColumnDataSource,  \n",
    "4) make the map and save it as html.\n",
    "\n",
    "Read the data using geopandas which is the first step."
   ]
  },
  {
   "cell_type": "code",
   "execution_count": null,
   "metadata": {},
   "outputs": [],
   "source": [
    "# File path\n",
    "metro_fp = [\"..\", \"data\", \"Helsinki_metro\", \"metro.shp\"]\n",
    "\n",
    "# Read the data\n",
    "metro = gpd.read_file(os.path.join(*metro_fp))\n",
    "\n",
    "#Let's convert the CRS to EPSG:3067\n",
    "\n",
    "\n",
    "# Let's see what we have\n"
   ]
  },
  {
   "cell_type": "markdown",
   "metadata": {},
   "source": [
    "We have the address and id columns plus the geometry column as attributes.\n",
    "\n",
    "Second step is where **calculate the x and y coordinates of the nodes of our lines**.\n",
    "\n",
    "Let’s create our own function called `getLineCoords()` in a similar manner as previously but now we need to modify it a bit so that we can get coordinates out of the Shapely LineString object.\n",
    "\n",
    "\n"
   ]
  },
  {
   "cell_type": "code",
   "execution_count": null,
   "metadata": {},
   "outputs": [],
   "source": [
    "def getLineCoords(row, coord_type):\n",
    "    \"\"\"Returns a list of coordinates ('x' or 'y') of a LineString geometry\"\"\"\n",
    "    if coord_type == 'x':\n",
    "        return list( row[\"geometry\"].coords.xy[0] )\n",
    "    elif coord_type == 'y':\n",
    "        return list( row[\"geometry\"].coords.xy[1] )"
   ]
  },
  {
   "cell_type": "markdown",
   "metadata": {},
   "source": [
    "Let’s now apply our function in a similar manner as previously."
   ]
  },
  {
   "cell_type": "code",
   "execution_count": null,
   "metadata": {},
   "outputs": [],
   "source": [
    "# Calculate x coordinates of the line\n",
    "metro['x'] = None\n",
    "\n",
    "# Calculate y coordinates of the line\n",
    "metro['y'] = None\n",
    "\n",
    "# Let's see what we have now\n"
   ]
  },
  {
   "cell_type": "markdown",
   "metadata": {},
   "source": [
    "The third step. Convert the DataFrame (without geometry column) into a ColumnDataSource which, as you remember, is a Bokeh-specific way of storing the data."
   ]
  },
  {
   "cell_type": "code",
   "execution_count": null,
   "metadata": {},
   "outputs": [],
   "source": [
    "# Make a copy and drop the geometry column\n",
    "m_df = None\n",
    "\n",
    "# Point DataSource\n",
    "msource = None"
   ]
  },
  {
   "cell_type": "markdown",
   "metadata": {},
   "source": [
    "Finally, we can make a map of the metro line and save it in a similar manner as earlier but now instead of plotting circle we need to use a `.multiline()` -object. Let’s define the `line_width` to be 3."
   ]
  },
  {
   "cell_type": "code",
   "execution_count": null,
   "metadata": {},
   "outputs": [],
   "source": [
    "# Initialize our plot figure\n",
    "p = None\n",
    "\n",
    "# Add the lines to the map from our 'msource' ColumnDataSource -object\n",
    "\n",
    "\n",
    "# Show it\n"
   ]
  },
  {
   "cell_type": "markdown",
   "metadata": {},
   "source": [
    "## Polygon map with Points and Lines\n",
    "\n",
    "It is of course possible to add different layers on top of each other. Let’s visualize a map showing accessibility in Helsinki Region and place a metro line and the address points on top of that.\n",
    "\n",
    "1st step: Import necessary modules and read the Shapefiles."
   ]
  },
  {
   "cell_type": "code",
   "execution_count": null,
   "metadata": {},
   "outputs": [],
   "source": [
    "# File paths\n",
    "grid_fp = [\"..\", \"data\", \"Travel_times\", \"TravelTimes_to_5975375_RailwayStation.shp\"]\n",
    "\n",
    "# Read files\n",
    "grid = gpd.read_file(os.path.join(*grid_fp))"
   ]
  },
  {
   "cell_type": "markdown",
   "metadata": {},
   "source": [
    "As usual, we need to make sure that the coordinate reference system is the same in every one of the layers. Let’s check the CRS of our layers."
   ]
  },
  {
   "cell_type": "code",
   "execution_count": null,
   "metadata": {},
   "outputs": [],
   "source": [
    "# Get the CRS of our grid, points, and metro\n",
    "\n",
    "\n"
   ]
  },
  {
   "cell_type": "markdown",
   "metadata": {},
   "source": [
    "Let’s proceed and parse the x and y values of our grid. Let’s create own function for that as well."
   ]
  },
  {
   "cell_type": "code",
   "execution_count": null,
   "metadata": {},
   "outputs": [],
   "source": [
    "def getPolyCoords(row, coord_type):\n",
    "    \"\"\"Returns the coordinates ('x' or 'y') of edges of a Polygon exterior\"\"\"\n",
    "\n",
    "    # Parse the exterior of the coordinate\n",
    "    exterior = row[\"geometry\"].exterior\n",
    "\n",
    "    if coord_type == 'x':\n",
    "        # Get the x coordinates of the exterior\n",
    "        return list( exterior.coords.xy[0] )\n",
    "    elif coord_type == 'y':\n",
    "        # Get the y coordinates of the exterior\n",
    "        return list( exterior.coords.xy[1] )"
   ]
  },
  {
   "cell_type": "markdown",
   "metadata": {},
   "source": [
    "2nd step: Let’s now apply the functions that we have created and parse the x and y coordinates for all of our datasets."
   ]
  },
  {
   "cell_type": "code",
   "execution_count": null,
   "metadata": {},
   "outputs": [],
   "source": [
    "# Get the Polygon x and y coordinates\n",
    "grid['x'] = None\n",
    "grid['y'] = None"
   ]
  },
  {
   "cell_type": "markdown",
   "metadata": {},
   "source": [
    "Now we have x and y coordinates for all of our datasets. Let’s see how our grid coordinates look like."
   ]
  },
  {
   "cell_type": "code",
   "execution_count": null,
   "metadata": {},
   "outputs": [],
   "source": [
    "# Show only head of x and y columns\n"
   ]
  },
  {
   "cell_type": "markdown",
   "metadata": {},
   "source": [
    "Let’s now classify the travel times of our grid int 5 minute intervals until 200 minutes using a mapsal classifier called `User_Defined` that allows to set our own criteria for class intervals. But first we need to replace the No Data values with a large number so that they wouldn’t be seen as the “best” accessible areas."
   ]
  },
  {
   "cell_type": "code",
   "execution_count": null,
   "metadata": {},
   "outputs": [],
   "source": [
    "# Replace No Data values (-1) with large number (999)\n",
    "grid = None\n",
    "\n",
    "# Classify our travel times into 5 minute classes until 200 minutes\n",
    "# Create a list of values where minumum value is 5, maximum value is 200 and step is 5.\n",
    "breaks = None\n",
    "\n",
    "# Initialize the classifier and apply it\n",
    "classifier = None\n",
    "pt_classif = None\n",
    "\n",
    "# Rename the classified column\n",
    "\n",
    "\n",
    "# Join it back to the grid layer\n",
    "grid = None"
   ]
  },
  {
   "cell_type": "code",
   "execution_count": null,
   "metadata": {},
   "outputs": [],
   "source": [
    "# Let's check what we have\n"
   ]
  },
  {
   "cell_type": "markdown",
   "metadata": {},
   "source": [
    "3rd step: Let’s now convert our GeoDataFrames into Bokeh ColumnDataSources (without geometry columns)"
   ]
  },
  {
   "cell_type": "code",
   "execution_count": null,
   "metadata": {},
   "outputs": [],
   "source": [
    "# Make a copy, drop the geometry column and create ColumnDataSource\n",
    "g_df = None\n",
    "gsource = None"
   ]
  },
  {
   "cell_type": "markdown",
   "metadata": {},
   "source": [
    "4th step: For visualizing the Polygons we need to define the color palette that we are going to use. There are many different ones available but we are now going to use a palette called `RdYlBu` and use eleven color-classes for the values (defined as `RdYlBu11`). Let’s prepare our color_mapper."
   ]
  },
  {
   "cell_type": "code",
   "execution_count": null,
   "metadata": {},
   "outputs": [],
   "source": [
    "# Let's first do some coloring magic that converts the color palet into map numbers (it's okey not to understand)\n",
    "from bokeh.palettes import RdYlBu11 as palette\n",
    "\n",
    "# Create the color mapper\n",
    "color_mapper = None"
   ]
  },
  {
   "cell_type": "markdown",
   "metadata": {},
   "source": [
    "Now we are ready to visualize our polygons and add the metro line and the points on top of that. Polygons are visualized using patches objects in Bokeh."
   ]
  },
  {
   "cell_type": "code",
   "execution_count": null,
   "metadata": {},
   "outputs": [],
   "source": [
    "# Initialize our figure\n",
    "p = None\n",
    "\n",
    "# Plot grid\n",
    "\n",
    "\n",
    "\n",
    "# Add metro on top of the same figure\n",
    "\n",
    "\n",
    "# Add points on top (as black points)\n",
    "\n",
    "\n",
    "# Show it\n"
   ]
  }
 ],
 "metadata": {
  "kernelspec": {
   "display_name": "Python 3.8.5 64-bit ('venv': venv)",
   "language": "python",
   "name": "python38564bitvenvvenv540fd453c3a64e37860b602ee6bd7379"
  },
  "language_info": {
   "codemirror_mode": {
    "name": "ipython",
    "version": 3
   },
   "file_extension": ".py",
   "mimetype": "text/x-python",
   "name": "python",
   "nbconvert_exporter": "python",
   "pygments_lexer": "ipython3",
   "version": "3.8.5"
  }
 },
 "nbformat": 4,
 "nbformat_minor": 2
}
