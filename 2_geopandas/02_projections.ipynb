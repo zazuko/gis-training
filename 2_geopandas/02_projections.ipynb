{
 "cells": [
  {
   "cell_type": "markdown",
   "metadata": {},
   "source": [
    "# Map projections\n",
    "\n",
    "**Credit:**\n",
    "\n",
    "[Vuokko Heikinheimo, Henrikki Tenkanen](https://automating-gis-processes.github.io/)  \n",
    "Department of Geosciences & Geography, University of Helsinki  \n"
   ]
  },
  {
   "cell_type": "markdown",
   "metadata": {},
   "source": [
    "## Map projections\n",
    "\n",
    "**A map projection** (or a projected coordinate system) is a systematic transformation of the latitudes and longitudes into a plain surface where units are quite commonly represented as meters (instead of decimal degrees). This transformation is used to **represent the three dimensional earth on a flat, two dimensional map**.\n",
    "\n",
    "Most common projections are:\n",
    "* planar\n",
    "* cylindrical\n",
    "* conical\n",
    "\n",
    "<img src=\"img/projection_families.png\" alt=\"drawing\" width=\"400\"/>  \n",
    "\n",
    "\n",
    "Map projections are never fully accurate. The results always show some **distortions**. The distortions affect:\n",
    "* angular conformity\n",
    "* distance\n",
    "* area\n",
    "\n",
    "The choice of projection is always a compromise between those elements. \n",
    "\n",
    "The projections that maintain correct properties are called:\n",
    "* **conformal** or **ortomorphic** => for angular conformity\n",
    "* **equidistant** or **ortomorphic** => for constant scale\n",
    "* **equal area**\n",
    "\n",
    "Let's take a look at [**sample projections**](https://docs.qgis.org/3.16/en/docs/gentle_gis_introduction/coordinate_reference_systems.html)\n",
    "\n",
    "\n",
    "<img src=\"img/distortions.jpg\" alt=\"drawing\" width=\"300px\"/>\n",
    "\n",
    "\n",
    "Choosing an appropriate projection for your map is not always straightforward because it depends on what you actually want to represent with your map, and what is the spatial scale of your data. In fact, there is not a single \"perfect projection\" since each one of them has some strengths and weaknesses, and you should choose a projection that fits best for your needs. In fact, the projection you choose might even tell something about you!\n",
    "    \n",
    "![](img/Map-projections.png)\n",
    "\n",
    "*Source: XKCD, See a full comic about [\"What your favorite map projection tells about you\"](https://xkcd.com/977/)*.\n",
    "\n",
    "For those of you who want a bit more analytical approach for choosing the projection, you can get a good overview from [georeference.org](http://www.georeference.org/doc/guide_to_selecting_map_projections.htm), or from this post introducing [the strengths and weaknesses of a few commonly used projections](http://www.geo.hunter.cuny.edu/~jochen/gtech201/lectures/lec6concepts/map%20coordinate%20systems/how%20to%20choose%20a%20projection.htm)."
   ]
  },
  {
   "cell_type": "markdown",
   "metadata": {},
   "source": [
    "## Coordinate reference systems (CRS)\n",
    "\n",
    "Coordinate reference systems allow you to describe every place on earth with a set of three numbers, called **coordinaes**.\n",
    "\n",
    "**CRS** are important because the geometric shapes in a GeoDataFrame are simply a collection of coordinates in an arbitrary space. A CRS tells Python how those coordinates are related to places on the Earth. \n",
    "\n",
    "As the CRS in different spatial datasets differ fairly often (i.e. one might have coordinates defined in decimal degrees while the other one has them in meters), it is a common procedure to **reproject** (transform) different layers into a common CRS. It is important that the layers are in the same coordinate reference system when analyzing the spatial relationships between the layers, for example, when making a Point in Polygon -query, or other type of overlay analysis.\n",
    "\n",
    "Two common CRS systems are:\n",
    "* **Geographic Coordinate System**, e.g. WGS84\n",
    "* **Projected Coordinate System**, e.g. UTM\n",
    "\n",
    "<img src=\"img/crs.png\" alt=\"drawing\" width=\"500px\"/>\n",
    "A projected coordinate system (PCS) is a GCS that has been flattened using a map projection.\n",
    "\n",
    "*Source: ESRI [\"Geographic vs Projected Coordinate Systems\"](https://www.esri.com/arcgis-blog/products/arcgis-pro/mapping/gcs_vs_pcs/)*.\n",
    "\n",
    "To better understand how CRS work, take a look [here](https://www.earthdatascience.org/courses/earth-analytics/spatial-data-r/intro-to-coordinate-reference-systems/) or [here](https://docs.qgis.org/3.16/en/docs/gentle_gis_introduction/coordinate_reference_systems.html)."
   ]
  },
  {
   "cell_type": "markdown",
   "metadata": {},
   "source": [
    "## Coordinate reference system (CRS) in Geopandas\n",
    "\n",
    "Luckily, defining and changing projections is easy using Geopandas and a library called [pyproj](https://pyproj4.github.io/pyproj/stable/). In this tutorial we will see **how to retrieve the\n",
    "coordinate reference system information from the data, and how to re-project the data into another crs**. We will re-project a data file from\n",
    "WGS84 (lat, lon coordinates) into a Lambert Azimuthal Equal Area projection.\n",
    "\n",
    "![](img/projection.gif)\n",
    "\n",
    "For this tutorial we will be using a Shapefile called `Europe_borders.shp` representing the country borders in Europe. You will find it in `data/Europe_borders` folder. \n",
    "\n",
    "In Shapefiles, information about the coordinate reference system is stored in the `.prj` -file. If this file is missing, you might be in trouble! When reading the data into `GeoDataFrame` with Geopandas crs information is automatically stored into the `.crs` attribute of the GeoDataFrame.\n",
    "\n",
    "Let's start by reading the data from the `Europe_borders.shp` file and checking the `crs`:"
   ]
  },
  {
   "cell_type": "code",
   "execution_count": null,
   "metadata": {},
   "outputs": [],
   "source": [
    "# Import geopandas and os packages\n",
    "\n",
    "\n",
    "\n",
    "# Read the file\n",
    "path = None \n",
    "file = None\n",
    "fp = None\n",
    "\n",
    "data = None"
   ]
  },
  {
   "cell_type": "code",
   "execution_count": null,
   "metadata": {},
   "outputs": [],
   "source": [
    "# Check the coordinate reference system\n"
   ]
  },
  {
   "cell_type": "markdown",
   "metadata": {},
   "source": [
    "What we see here is in fact a CRS object from the pyproj module. \n",
    "\n",
    "The EPSG number (named after the *European Petroleum Survey Group*) is a code that tells about the coordinate system of the dataset. \"[EPSG Geodetic Parameter Dataset](http://www.epsg.org/) is a collection of definitions of coordinate reference systems and coordinate transformations which may be global, regional, national or local in application\".\n",
    "\n",
    "The EPSG code of our geodataframe is`4326`, which refers to the WGS84 coordinate system (we can also figure this out by looking at the coordinates values which are longitude and latitudes decimal degrees).\n",
    "\n",
    "You can find a lot of information and lists of available coordinate reference systems from:\n",
    "\n",
    "  - [www.spatialreference.org](http://spatialreference.org/)\n",
    "  - [www.proj4.org](https://proj4.org/operations/projections/)\n",
    "  - [www.mapref.org](http://mapref.org/CollectionofCRSinEurope.html)"
   ]
  },
  {
   "cell_type": "markdown",
   "metadata": {},
   "source": [
    "- Let's continue by checking the values in our `geometry` -column to verify that the CRS of our GeoDataFrame seems correct:"
   ]
  },
  {
   "cell_type": "code",
   "execution_count": null,
   "metadata": {},
   "outputs": [],
   "source": []
  },
  {
   "cell_type": "markdown",
   "metadata": {},
   "source": [
    "As we can see, the coordinate values of the Polygons indeed look like latitude and longitude values, so everything seems to be in order.\n",
    "\n",
    "WGS84 projection is not really a good one for representing European borders on a map (areas get distorted), so let's convert those geometries into Lambert Azimuthal Equal Area projection ([EPSG: 3035](http://spatialreference.org/ref/epsg/etrs89-etrs-laea/)) which is the recommended projection by European Comission.\n",
    "\n",
    "Changing the projection is simple to [do in Geopandas](http://geopandas.org/projections.html#re-projecting) with `.to_crs()` -function which is a built-in function of the GeoDataFrame. The function has two alternative parameters 1) `crs` and 2) `epgs` that can be used to make the coordinate transformation and re-project the data into the CRS that you want to use. \n",
    "\n",
    "- Let's re-project our data into `EPSG 3035` using `epsg` -parameter:"
   ]
  },
  {
   "cell_type": "code",
   "execution_count": null,
   "metadata": {},
   "outputs": [],
   "source": [
    "# Let's make a backup copy of our data\n",
    "data_wgs84 = None\n",
    "\n",
    "# Reproject the data\n",
    "data = None"
   ]
  },
  {
   "cell_type": "code",
   "execution_count": null,
   "metadata": {},
   "outputs": [],
   "source": [
    "# Check the new geometry values\n"
   ]
  },
  {
   "cell_type": "markdown",
   "metadata": {},
   "source": [
    "And here we go, the coordinate values in the geometries have changed! Now we have successfully changed the projection of our layer into a new one, i.e. to `Lambert Azimuthal Equal Area` projection. \n",
    "\n",
    "To really understand what is going on, it is good to explore our data visually. Let's compare the datasets by making\n",
    "maps out of them.\n"
   ]
  },
  {
   "cell_type": "code",
   "execution_count": null,
   "metadata": {},
   "outputs": [],
   "source": [
    "# import matplotlib\n",
    "\n",
    "\n",
    "# Make subplots that are next to each other\n",
    "\n",
    "\n",
    "\n",
    "# Plot the data in WGS84 CRS\n",
    "\n",
    "\n",
    "# Add title\n",
    "\n",
    "\n",
    "# Plot the one with ETRS-LAEA projection\n",
    "\n",
    "\n",
    "# Add title\n",
    "\n",
    "\n",
    "# Set aspect ratio as 1\n",
    "\n",
    "\n",
    "\n",
    "# Remove empty white space around the plot\n"
   ]
  },
  {
   "cell_type": "markdown",
   "metadata": {},
   "source": [
    "Indeed, the maps look quite different, and the re-projected one looks much better in Europe as the areas especially in the north are more realistic and not so stretched as in WGS84.\n",
    "\n",
    "Finally, let's save our projected layer into a Shapefile so that we can use it later. Note, even if the crs information is stored in the .prj file, it might be a good idea also to include crs info in the filename:"
   ]
  },
  {
   "cell_type": "code",
   "execution_count": null,
   "metadata": {},
   "outputs": [],
   "source": [
    "# Ouput filepath\n",
    "path = None\n",
    "outfile = None\n",
    "outfp = None\n",
    "    \n",
    "# Save to disk\n"
   ]
  },
  {
   "cell_type": "markdown",
   "metadata": {},
   "source": [
    "## Dealing with different CRS formats"
   ]
  },
  {
   "cell_type": "markdown",
   "metadata": {},
   "source": [
    "There are various ways to present Coordinate Reference System information, such as [PROJ strings](https://proj.org/usage/quickstart.html), `EPSG codes`, `Well-Known-Text (WKT)`, `JSON`. It is likely that you will encounter some of these when working with spatial data obtained from different sources. Being able to convert the CRS information from one format to another is needed every now and then, hence, it is useful to know a few tricks how to do this.\n",
    "\n",
    "Luckily, dealing with CRS information is easy in Python using the [pyproj](https://pyproj4.github.io/pyproj/stable/) library. In fact, `pyproj` is a Python wrapper around a software called [PROJ](https://proj.org/) (maintained by [OSGeo](https://www.osgeo.org/) community), which is widely used tool for conducting coordinate transformations in various GIS softwares. `Pyproj` is also used under the hood in Geopandas, and it handles all the CRS definitions and coordinate transformations (reprojecting from CRS to another as we did earlier)."
   ]
  },
  {
   "cell_type": "markdown",
   "metadata": {},
   "source": [
    "Next, let's see how it is possible to easily extract useful information from CRS, and transform CRS information from format to another. `pyproj` -library has a [class](https://docs.python.org/3/tutorial/classes.html) called [CRS](https://pyproj4.github.io/pyproj/dev/api/crs.html) that provides many useful functionalities for dealing with CRS information."
   ]
  },
  {
   "cell_type": "code",
   "execution_count": null,
   "metadata": {},
   "outputs": [],
   "source": [
    "# Let's see the current CRS of our data\n"
   ]
  },
  {
   "cell_type": "markdown",
   "metadata": {},
   "source": [
    "The `data.crs` returns the coordinate reference system as a dictionary of PROJ parameters. From here we can easily see that the EPSG code of the data is 3035.\n",
    "\n",
    "However, let’s see how the same information looks like in other formats such as `WKT` or `Proj4` text. For this we need to use the `CRS` class."
   ]
  },
  {
   "cell_type": "code",
   "execution_count": null,
   "metadata": {},
   "outputs": [],
   "source": [
    "### Import CRS class from pyproj\n",
    "\n",
    "\n",
    "# Initialize the CRS class for epsg code 3035:\n",
    "\n"
   ]
  },
  {
   "cell_type": "markdown",
   "metadata": {},
   "source": [
    "As we can see, the `CRS` object contains a of information about the coordinate reference system such as the `Name` of the CRS (ETRS89/LAEA Europe), the `area` where the CRS is in use (*Europe* with bounds *(-16.1, 32.88, 40.18, 84.17)*), and the `Datum` (European Terrestrial Reference System 1989). \n",
    "\n",
    "We can also easily parse this information individually as follows: "
   ]
  },
  {
   "cell_type": "code",
   "execution_count": null,
   "metadata": {},
   "outputs": [],
   "source": [
    "# Name\n",
    "crs_name = None\n",
    "print(\"Name:\", crs_name)\n",
    "\n",
    "# Coordinate system\n",
    "coordinate_system = None\n",
    "print(\"Coordinate system:\", coordinate_system)\n",
    "\n",
    "# Bounds of the area where CRS is used\n",
    "bounds = None\n",
    "print(\"Bounds:\", bounds)"
   ]
  },
  {
   "cell_type": "markdown",
   "metadata": {},
   "source": [
    "You can explore all the possible information that can be extracted from the CRS by typing `crs_object.` and pressing Tabulator. \n",
    "\n",
    "Let's see how we can convert the crs information from one format to another. Quite often it is useful to know the EPSG code of the CRS. Next, we will conduct a few transformations to demonstrate the capabilities of the `CRS` class."
   ]
  },
  {
   "cell_type": "code",
   "execution_count": null,
   "metadata": {},
   "outputs": [],
   "source": [
    "# Retrive CRS information in WKT format\n",
    "crs_wkt = None\n",
    "print(crs_wkt)"
   ]
  },
  {
   "cell_type": "markdown",
   "metadata": {},
   "source": [
    "As we can see, the `WKT` format contains a *lot* of information. Typically, e.g. the `.prj` file of a Shapefile contains the information in this format. Let's see how it is possible to extract `EPSG` code from this. For doing it, we need to re-initialize the CRS object, this time from the `WKT` text presentation.   "
   ]
  },
  {
   "cell_type": "code",
   "execution_count": null,
   "metadata": {},
   "outputs": [],
   "source": [
    "# Retrieve EPSG code from WKT text\n",
    "epsg = None\n",
    "print(epsg)"
   ]
  },
  {
   "cell_type": "markdown",
   "metadata": {},
   "source": [
    "<div class=\"alert alert-info\">\n",
    "\n",
    "**Not able to recognize epsg?**\n",
    "    \n",
    "Sometimes `to_epsg()` isn't able to recognize the EPSG code from the WKT representation. This can happen if the WKT information is missing some details. Luckily, we can easily adjust the minimum level of confidence for matching the CRS info and the EPSG code. We can do this by adjusting a parameter `min_confidence` when calling the function. By default, the confidence level is 70 %, but it is also possible to set a lower confidence threshold. \n",
    "    \n",
    "The coordinate information of our input shapefile is incomplete, and does not yield an epsg value with default setting: However, CRS is able to determine the EPSG value with a lower confidence treshold: \n",
    "    \n",
    "```\n",
    "# Let's try to extract the EPSG code from the crs of our original data:\n",
    "CRS(data.crs).to_epsg()\n",
    ">>> None\n",
    "    \n",
    "# Let's try it again with a lower confidence requirement (25 %)\n",
    "CRS(data.crs).to_epsg(min_confidence=25)\n",
    ">>> 3035\n",
    "```\n",
    "However, be cautious when using this, as guessing the EPSG from \"exotic\" coordinate reference systems might also provide false results. \n",
    "</div>"
   ]
  },
  {
   "cell_type": "markdown",
   "metadata": {},
   "source": [
    "Let's now save our data to disk using the `WKT` format as the crs of our GeoDataFrame. WKT is a [preferred output format](https://proj.org/faq.html#what-is-the-best-format-for-describing-coordinate-reference-systems) when storing crs information as text."
   ]
  },
  {
   "cell_type": "code",
   "execution_count": null,
   "metadata": {},
   "outputs": [],
   "source": [
    "# Re-define the CRS of the input GeoDataFrame\n",
    "data.crs = None"
   ]
  },
  {
   "cell_type": "code",
   "execution_count": null,
   "metadata": {},
   "outputs": [],
   "source": [
    "# Save to disk\n"
   ]
  },
  {
   "cell_type": "markdown",
   "metadata": {},
   "source": [
    "That's it. \n",
    "\n",
    "\n",
    "**HINT**: A module called [PyCRS](https://github.com/karimbahgat/PyCRS) can also be useful library as it contains information and supports many different coordinate reference definitions, such as OGC WKT (v1), ESRI WKT, Proj4, and any EPSG, ESRI, or SR-ORG code available from spatialreference.org."
   ]
  },
  {
   "cell_type": "markdown",
   "metadata": {},
   "source": [
    "### Overview of different crs formats\n",
    "\n",
    "The following code cell prints out a summary summary of different ways of representing crs information using pyproj CRS. Here, we use the crs of the original European borders layer as a starting point:"
   ]
  },
  {
   "cell_type": "code",
   "execution_count": null,
   "metadata": {},
   "outputs": [],
   "source": [
    "# CRS of the data:\n",
    "crs_default = None\n",
    "\n",
    "# pyproj CRS object:\n",
    "crs_object = None\n",
    "\n",
    "# EPSG code (here, the input crs information is a bit vague so we need to lower the confidence threshold)\n",
    "crs_epsg = None\n",
    "\n",
    "# PROJ string\n",
    "crs_proj4 = None\n",
    "\n",
    "# Well-Known Text (WKT)\n",
    "crs_wkt = None"
   ]
  },
  {
   "cell_type": "code",
   "execution_count": null,
   "metadata": {},
   "outputs": [],
   "source": [
    "print(\"PROJ dictionary:\\n\", crs_default)\n",
    "print(\"\\nCRS object:\\n\", crs_object)\n",
    "print(\"\\nEPSG code: \\n\", crs_epsg)\n",
    "print(\"\\nPROJ string: \\n\", crs_proj4)\n",
    "print(\"\\nWell-Known Text (WKT):\\n\",crs_wkt) "
   ]
  },
  {
   "cell_type": "markdown",
   "metadata": {},
   "source": [
    "## Global map projections\n",
    "\n",
    "Finally, let's play around with global map projections :) `data/World_borders` folder conaints a layer `ne_110m_admin_0_countries.shp` that represents the country borders of the world. The data was downloaded from https://www.naturalearthdata.com/. \n",
    "\n",
    "#### Check your understanding\n",
    "\n",
    "<div class=\"alert alert-info\">\n",
    "\n",
    "    \n",
    "Read in a global dataset and plot three maps with different projections! See hints and projection definitions from:\n",
    "    \n",
    "- http://geopandas.org/projections.html\n",
    "- https://pyproj4.github.io/pyproj/dev/api/crs/crs.htmlx\n",
    "- https://spatialreference.org/\n",
    "    \n",
    "When plotting the maps, think about the advantages and disadvantages of different world map projections.\n",
    "   \n",
    "</div>\n"
   ]
  },
  {
   "cell_type": "code",
   "execution_count": null,
   "metadata": {},
   "outputs": [],
   "source": [
    "# Read in data\n",
    "path = [\"..\", \"data\", \"World_borders\", \"ne_110m_admin_0_countries.shp\"]\n",
    "fp = None\n",
    "\n",
    "admin = None"
   ]
  },
  {
   "cell_type": "code",
   "execution_count": null,
   "metadata": {},
   "outputs": [],
   "source": [
    "# Check input crs\n"
   ]
  },
  {
   "cell_type": "code",
   "execution_count": null,
   "metadata": {},
   "outputs": [],
   "source": [
    "# Set fig size\n",
    "plt.rcParams['figure.figsize'] = [16, 12]"
   ]
  },
  {
   "cell_type": "code",
   "execution_count": null,
   "metadata": {},
   "outputs": [],
   "source": [
    "# Plot map in original crs:\n",
    "\n"
   ]
  },
  {
   "cell_type": "code",
   "execution_count": null,
   "metadata": {},
   "outputs": [],
   "source": [
    "# Define projection as web mercator, 3785:\n",
    "web_mercator = None\n",
    "\n",
    "# Re-project and plot\n",
    "\n",
    "\n",
    "# Remove x and y axis\n",
    "\n"
   ]
  },
  {
   "cell_type": "code",
   "execution_count": null,
   "metadata": {},
   "outputs": [],
   "source": [
    "# Define projection Eckert IV from https://spatialreference.org/ref/esri/54012/\n",
    "eckert_IV = None\n",
    "\n",
    "# Re-project and plot\n",
    "\n",
    "\n",
    "# Remove x and y axis\n",
    "\n"
   ]
  },
  {
   "cell_type": "markdown",
   "metadata": {},
   "source": [
    "## Summary\n",
    "That's it! In this section we learned how to:\n",
    "\n",
    "1. reproject (transform) the geometries from crs to another using the `to_crs()` -function in GeoPandas\n",
    "2. Define the coordinate reference system in different formats using `pyproj` `CRS`"
   ]
  },
  {
   "cell_type": "markdown",
   "metadata": {},
   "source": [
    "## Exercise\n",
    "\n",
    "### 1. Azimuthal equidistant projection\n",
    "\n",
    "Define NSIDC EASE-Grid South projection from https://spatialreference.org/ref/epsg/3409/.\n",
    "Plot world borders with this projection."
   ]
  },
  {
   "cell_type": "code",
   "execution_count": 43,
   "metadata": {},
   "outputs": [],
   "source": [
    "# Define NSIDC EASE-Grid South projection.\n",
    "\n",
    "\n",
    "# Re-project and plot\n",
    "\n",
    "\n",
    "# Remove x and y axis\n",
    "\n"
   ]
  },
  {
   "cell_type": "markdown",
   "metadata": {},
   "source": [
    "### 2. Orthographic projection\n",
    "\n",
    "Define an orthographic projection from: http://www.statsmapsnpix.com/2019/09/globe-projections-and-insets-in-qgis.html. **Make it centered around your hometown**\n",
    "\n",
    "Plot world borders with this projection"
   ]
  },
  {
   "cell_type": "code",
   "execution_count": 44,
   "metadata": {},
   "outputs": [],
   "source": [
    "# Define an orthographic projection.\n",
    "# Make it centered around your hometown!\n",
    "\n",
    "\n",
    "# Re-project and plot\n",
    "\n",
    "\n",
    "# Remove x and y axis\n",
    "\n"
   ]
  }
 ],
 "metadata": {
  "kernelspec": {
   "display_name": "gis-training",
   "language": "python",
   "name": "gis-training"
  },
  "language_info": {
   "codemirror_mode": {
    "name": "ipython",
    "version": 3
   },
   "file_extension": ".py",
   "mimetype": "text/x-python",
   "name": "python",
   "nbconvert_exporter": "python",
   "pygments_lexer": "ipython3",
   "version": "3.8.5"
  }
 },
 "nbformat": 4,
 "nbformat_minor": 4
}
